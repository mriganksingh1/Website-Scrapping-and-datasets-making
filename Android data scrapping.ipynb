{
 "cells": [
  {
   "cell_type": "code",
   "execution_count": 1,
   "metadata": {
    "collapsed": true
   },
   "outputs": [],
   "source": [
    "from urllib.request import urlopen"
   ]
  },
  {
   "cell_type": "code",
   "execution_count": 2,
   "metadata": {
    "collapsed": true
   },
   "outputs": [],
   "source": [
    "url=\"https://en.wikipedia.org/wiki/Android_version_history\""
   ]
  },
  {
   "cell_type": "code",
   "execution_count": 3,
   "metadata": {},
   "outputs": [
    {
     "name": "stdout",
     "output_type": "stream",
     "text": [
      "<http.client.HTTPResponse object at 0x7fe82437b358>\n"
     ]
    }
   ],
   "source": [
    "android_data=urlopen(url)\n",
    "print(android_data)"
   ]
  },
  {
   "cell_type": "code",
   "execution_count": 4,
   "metadata": {},
   "outputs": [],
   "source": [
    "android_html=android_data.read()\n",
    "android_data.close()\n",
    "#print(android_html)"
   ]
  },
  {
   "cell_type": "code",
   "execution_count": 5,
   "metadata": {
    "collapsed": true
   },
   "outputs": [],
   "source": [
    "from bs4 import BeautifulSoup as soup"
   ]
  },
  {
   "cell_type": "code",
   "execution_count": 6,
   "metadata": {
    "collapsed": true
   },
   "outputs": [],
   "source": [
    "android_soup=soup(android_html,'html.parser')"
   ]
  },
  {
   "cell_type": "code",
   "execution_count": 7,
   "metadata": {},
   "outputs": [],
   "source": [
    "android_tables=android_soup.findAll('table',{'class':'wikitable'})\n",
    "#print(android_tables)"
   ]
  },
  {
   "cell_type": "code",
   "execution_count": 8,
   "metadata": {},
   "outputs": [],
   "source": [
    "tables=android_tables[0]\n",
    "#print(tables)"
   ]
  },
  {
   "cell_type": "code",
   "execution_count": 9,
   "metadata": {},
   "outputs": [
    {
     "name": "stdout",
     "output_type": "stream",
     "text": [
      "[<th>Code<br/>name\n",
      "</th>, <th>Version<br/>number\n",
      "</th>, <th><a href=\"/wiki/Linux_kernel\" title=\"Linux kernel\">Linux kernel</a><br/>version<sup class=\"reference\" id=\"cite_ref-1\"><a href=\"#cite_note-1\">[1]</a></sup>\n",
      "</th>, <th>Initial release<br/>date\n",
      "</th>, <th>API<br/>level\n",
      "</th>, <th>Ref.\n",
      "</th>]\n"
     ]
    }
   ],
   "source": [
    "headers=tables.findAll('th')\n",
    "print(headers)"
   ]
  },
  {
   "cell_type": "code",
   "execution_count": 10,
   "metadata": {
    "collapsed": true
   },
   "outputs": [],
   "source": [
    "column_titles=[ct.text[:-1] for ct in headers]"
   ]
  },
  {
   "cell_type": "code",
   "execution_count": 11,
   "metadata": {},
   "outputs": [
    {
     "name": "stdout",
     "output_type": "stream",
     "text": [
      "['Codename', 'Versionnumber', 'Linux kernelversion[1]', 'Initial releasedate', 'APIlevel', 'Ref.']\n"
     ]
    }
   ],
   "source": [
    "print(column_titles)"
   ]
  },
  {
   "cell_type": "code",
   "execution_count": 12,
   "metadata": {},
   "outputs": [],
   "source": [
    "rows_data=tables.findAll('tr')[1:]"
   ]
  },
  {
   "cell_type": "code",
   "execution_count": 13,
   "metadata": {},
   "outputs": [],
   "source": [
    "#print(rows_data)"
   ]
  },
  {
   "cell_type": "code",
   "execution_count": 14,
   "metadata": {},
   "outputs": [
    {
     "name": "stdout",
     "output_type": "stream",
     "text": [
      "No Codename\n",
      "Old version, no longer supported: 1.0\n",
      "\n",
      "2.1\n",
      "\n",
      "September 23, 2008\n",
      "1\n",
      "\n",
      "[2]\n",
      "\n"
     ]
    }
   ],
   "source": [
    "first_row=rows_data[0].findAll('td',{})\n",
    "for d in first_row:\n",
    "    print(d.text)"
   ]
  },
  {
   "cell_type": "code",
   "execution_count": 15,
   "metadata": {},
   "outputs": [],
   "source": [
    "table_row=[]\n",
    "for row in rows_data:\n",
    "    current_row=[]\n",
    "    row_data=row.findAll('td',{})\n",
    "    for idx,data in enumerate(row_data):\n",
    "        if(idx==1):\n",
    "            current_row.append(data.text[:-1].split(': ')[-1])\n",
    "        elif(idx!=0 and idx!=3):\n",
    "            current_row.append(data.text[:-1])\n",
    "        else:\n",
    "            current_row.append(data.text)\n",
    "    table_row.append(current_row)        "
   ]
  },
  {
   "cell_type": "code",
   "execution_count": 16,
   "metadata": {},
   "outputs": [
    {
     "name": "stdout",
     "output_type": "stream",
     "text": [
      "[['No Codename', '1.0', '2.1', 'September 23, 2008', '1', '[2]'], ['Petit Four', '1.1', '2.6', 'February 9, 2009', '2', '[2]'], ['Cupcake', '1.5', '2.6.2', 'April 27, 2009', '3', ''], ['Donut', '1.6', '2.6.2', 'September 15, 2009', '4', '[3]'], ['Eclair', '2.0 – 2.1', '2.6.2', 'October 26, 2009', '5 – 7', '[4]'], ['Froyo', '2.2 – 2.2.3', '2.6.3', 'May 20, 2010', '8', '[5]'], ['Gingerbread', '2.3 – 2.3.7', '2.6.3', 'December 6, 2010', '9 – 10', '[6]'], ['Honeycomb', '3.0 – 3.2.6', '2.6.3', 'February 22, 2011', '11 – 13', '[7]'], ['Ice Cream Sandwich', '4.0 – 4.0.4', '3.0.', 'October 18, 2011', '14 – 15', '[8]'], ['Jelly Bean', '4.1 – 4.3.1', '3.0.31 - 3.4.3', 'July 9, 2012', '16 – 18', '[9]'], ['KitKat', '4.4 – 4.4.4', '3.1', 'October 31, 2013', '19 – 20', '[10]'], ['Lollipop', '5.0 – 5.1.1', '3.1', 'November 12, 2014', '21 – 22', '[11]'], ['Marshmallow', '6.0 – 6.0.1', '3.1', 'October 5, 2015', '23', '[12]'], ['Nougat', '7.0 – 7.1.2', '4.', 'August 22, 2016', '24 – 25', '[13]'], ['Oreo', '8.0 – 8.1', '4.1', 'August 21, 2017', '26 – 27', '[14]'], ['Pie', '9.', '4.4.107, 4.9.84, and 4.14.4', 'August 6, 2018', '28', '[15]'], ['Q', '10.', '', '', '2', ''], ['Legend:Old versionOlder version, still supportedLatest versionLatest preview versionFuture release\\n']]\n"
     ]
    }
   ],
   "source": [
    "print(table_row)"
   ]
  },
  {
   "cell_type": "code",
   "execution_count": 17,
   "metadata": {
    "collapsed": true
   },
   "outputs": [],
   "source": [
    "filename='android_version_history.csv'\n",
    "with open(filename,'w',encoding='utf-8') as f:\n",
    "    header_string=','.join(column_titles)\n",
    "    header_string+='\\n'\n",
    "    f.write(header_string)\n",
    "    for row in table_row[:-1]:\n",
    "        row_string=\"\"\n",
    "        for w in row:\n",
    "            w=w.replace(',','')\n",
    "            row_string+=w+','\n",
    "        row_string=row_string[:-1]    \n",
    "        row_string+='\\n'\n",
    "        f.write(row_string)"
   ]
  },
  {
   "cell_type": "code",
   "execution_count": 18,
   "metadata": {
    "collapsed": true
   },
   "outputs": [],
   "source": [
    "import pandas as pd"
   ]
  },
  {
   "cell_type": "code",
   "execution_count": 19,
   "metadata": {
    "collapsed": true
   },
   "outputs": [],
   "source": [
    "android_version=pd.read_csv('/home/mrigank/Documents/web_scrapping/android_version_history.csv')"
   ]
  },
  {
   "cell_type": "code",
   "execution_count": 20,
   "metadata": {},
   "outputs": [
    {
     "data": {
      "text/html": [
       "<div>\n",
       "<style>\n",
       "    .dataframe thead tr:only-child th {\n",
       "        text-align: right;\n",
       "    }\n",
       "\n",
       "    .dataframe thead th {\n",
       "        text-align: left;\n",
       "    }\n",
       "\n",
       "    .dataframe tbody tr th {\n",
       "        vertical-align: top;\n",
       "    }\n",
       "</style>\n",
       "<table border=\"1\" class=\"dataframe\">\n",
       "  <thead>\n",
       "    <tr style=\"text-align: right;\">\n",
       "      <th></th>\n",
       "      <th>Codename</th>\n",
       "      <th>Versionnumber</th>\n",
       "      <th>Linux kernelversion[1]</th>\n",
       "      <th>Initial releasedate</th>\n",
       "      <th>APIlevel</th>\n",
       "      <th>Ref.</th>\n",
       "    </tr>\n",
       "  </thead>\n",
       "  <tbody>\n",
       "    <tr>\n",
       "      <th>0</th>\n",
       "      <td>No Codename</td>\n",
       "      <td>1.0</td>\n",
       "      <td>2.1</td>\n",
       "      <td>September 23 2008</td>\n",
       "      <td>1</td>\n",
       "      <td>[2]</td>\n",
       "    </tr>\n",
       "    <tr>\n",
       "      <th>1</th>\n",
       "      <td>Petit Four</td>\n",
       "      <td>1.1</td>\n",
       "      <td>2.6</td>\n",
       "      <td>February 9 2009</td>\n",
       "      <td>2</td>\n",
       "      <td>[2]</td>\n",
       "    </tr>\n",
       "    <tr>\n",
       "      <th>2</th>\n",
       "      <td>Cupcake</td>\n",
       "      <td>1.5</td>\n",
       "      <td>2.6.2</td>\n",
       "      <td>April 27 2009</td>\n",
       "      <td>3</td>\n",
       "      <td>NaN</td>\n",
       "    </tr>\n",
       "    <tr>\n",
       "      <th>3</th>\n",
       "      <td>Donut</td>\n",
       "      <td>1.6</td>\n",
       "      <td>2.6.2</td>\n",
       "      <td>September 15 2009</td>\n",
       "      <td>4</td>\n",
       "      <td>[3]</td>\n",
       "    </tr>\n",
       "    <tr>\n",
       "      <th>4</th>\n",
       "      <td>Eclair</td>\n",
       "      <td>2.0 – 2.1</td>\n",
       "      <td>2.6.2</td>\n",
       "      <td>October 26 2009</td>\n",
       "      <td>5 – 7</td>\n",
       "      <td>[4]</td>\n",
       "    </tr>\n",
       "    <tr>\n",
       "      <th>5</th>\n",
       "      <td>Froyo</td>\n",
       "      <td>2.2 – 2.2.3</td>\n",
       "      <td>2.6.3</td>\n",
       "      <td>May 20 2010</td>\n",
       "      <td>8</td>\n",
       "      <td>[5]</td>\n",
       "    </tr>\n",
       "    <tr>\n",
       "      <th>6</th>\n",
       "      <td>Gingerbread</td>\n",
       "      <td>2.3 – 2.3.7</td>\n",
       "      <td>2.6.3</td>\n",
       "      <td>December 6 2010</td>\n",
       "      <td>9 – 10</td>\n",
       "      <td>[6]</td>\n",
       "    </tr>\n",
       "    <tr>\n",
       "      <th>7</th>\n",
       "      <td>Honeycomb</td>\n",
       "      <td>3.0 – 3.2.6</td>\n",
       "      <td>2.6.3</td>\n",
       "      <td>February 22 2011</td>\n",
       "      <td>11 – 13</td>\n",
       "      <td>[7]</td>\n",
       "    </tr>\n",
       "    <tr>\n",
       "      <th>8</th>\n",
       "      <td>Ice Cream Sandwich</td>\n",
       "      <td>4.0 – 4.0.4</td>\n",
       "      <td>3.0.</td>\n",
       "      <td>October 18 2011</td>\n",
       "      <td>14 – 15</td>\n",
       "      <td>[8]</td>\n",
       "    </tr>\n",
       "    <tr>\n",
       "      <th>9</th>\n",
       "      <td>Jelly Bean</td>\n",
       "      <td>4.1 – 4.3.1</td>\n",
       "      <td>3.0.31 - 3.4.3</td>\n",
       "      <td>July 9 2012</td>\n",
       "      <td>16 – 18</td>\n",
       "      <td>[9]</td>\n",
       "    </tr>\n",
       "    <tr>\n",
       "      <th>10</th>\n",
       "      <td>KitKat</td>\n",
       "      <td>4.4 – 4.4.4</td>\n",
       "      <td>3.1</td>\n",
       "      <td>October 31 2013</td>\n",
       "      <td>19 – 20</td>\n",
       "      <td>[10]</td>\n",
       "    </tr>\n",
       "    <tr>\n",
       "      <th>11</th>\n",
       "      <td>Lollipop</td>\n",
       "      <td>5.0 – 5.1.1</td>\n",
       "      <td>3.1</td>\n",
       "      <td>November 12 2014</td>\n",
       "      <td>21 – 22</td>\n",
       "      <td>[11]</td>\n",
       "    </tr>\n",
       "    <tr>\n",
       "      <th>12</th>\n",
       "      <td>Marshmallow</td>\n",
       "      <td>6.0 – 6.0.1</td>\n",
       "      <td>3.1</td>\n",
       "      <td>October 5 2015</td>\n",
       "      <td>23</td>\n",
       "      <td>[12]</td>\n",
       "    </tr>\n",
       "    <tr>\n",
       "      <th>13</th>\n",
       "      <td>Nougat</td>\n",
       "      <td>7.0 – 7.1.2</td>\n",
       "      <td>4.</td>\n",
       "      <td>August 22 2016</td>\n",
       "      <td>24 – 25</td>\n",
       "      <td>[13]</td>\n",
       "    </tr>\n",
       "    <tr>\n",
       "      <th>14</th>\n",
       "      <td>Oreo</td>\n",
       "      <td>8.0 – 8.1</td>\n",
       "      <td>4.1</td>\n",
       "      <td>August 21 2017</td>\n",
       "      <td>26 – 27</td>\n",
       "      <td>[14]</td>\n",
       "    </tr>\n",
       "    <tr>\n",
       "      <th>15</th>\n",
       "      <td>Pie</td>\n",
       "      <td>9.</td>\n",
       "      <td>4.4.107 4.9.84 and 4.14.4</td>\n",
       "      <td>August 6 2018</td>\n",
       "      <td>28</td>\n",
       "      <td>[15]</td>\n",
       "    </tr>\n",
       "    <tr>\n",
       "      <th>16</th>\n",
       "      <td>Q</td>\n",
       "      <td>10.</td>\n",
       "      <td>NaN</td>\n",
       "      <td>NaN</td>\n",
       "      <td>2</td>\n",
       "      <td>NaN</td>\n",
       "    </tr>\n",
       "  </tbody>\n",
       "</table>\n",
       "</div>"
      ],
      "text/plain": [
       "              Codename Versionnumber     Linux kernelversion[1]  \\\n",
       "0          No Codename           1.0                        2.1   \n",
       "1           Petit Four           1.1                        2.6   \n",
       "2              Cupcake           1.5                      2.6.2   \n",
       "3                Donut           1.6                      2.6.2   \n",
       "4               Eclair     2.0 – 2.1                      2.6.2   \n",
       "5                Froyo   2.2 – 2.2.3                      2.6.3   \n",
       "6          Gingerbread   2.3 – 2.3.7                      2.6.3   \n",
       "7            Honeycomb   3.0 – 3.2.6                      2.6.3   \n",
       "8   Ice Cream Sandwich   4.0 – 4.0.4                       3.0.   \n",
       "9           Jelly Bean   4.1 – 4.3.1             3.0.31 - 3.4.3   \n",
       "10              KitKat   4.4 – 4.4.4                        3.1   \n",
       "11            Lollipop   5.0 – 5.1.1                        3.1   \n",
       "12         Marshmallow   6.0 – 6.0.1                        3.1   \n",
       "13              Nougat   7.0 – 7.1.2                         4.   \n",
       "14                Oreo     8.0 – 8.1                        4.1   \n",
       "15                 Pie            9.  4.4.107 4.9.84 and 4.14.4   \n",
       "16                   Q           10.                        NaN   \n",
       "\n",
       "   Initial releasedate APIlevel  Ref.  \n",
       "0    September 23 2008        1   [2]  \n",
       "1      February 9 2009        2   [2]  \n",
       "2        April 27 2009        3   NaN  \n",
       "3    September 15 2009        4   [3]  \n",
       "4      October 26 2009    5 – 7   [4]  \n",
       "5          May 20 2010        8   [5]  \n",
       "6      December 6 2010   9 – 10   [6]  \n",
       "7     February 22 2011  11 – 13   [7]  \n",
       "8      October 18 2011  14 – 15   [8]  \n",
       "9          July 9 2012  16 – 18   [9]  \n",
       "10     October 31 2013  19 – 20  [10]  \n",
       "11    November 12 2014  21 – 22  [11]  \n",
       "12      October 5 2015       23  [12]  \n",
       "13      August 22 2016  24 – 25  [13]  \n",
       "14      August 21 2017  26 – 27  [14]  \n",
       "15       August 6 2018       28  [15]  \n",
       "16                 NaN        2   NaN  "
      ]
     },
     "execution_count": 20,
     "metadata": {},
     "output_type": "execute_result"
    }
   ],
   "source": [
    "android_version"
   ]
  },
  {
   "cell_type": "code",
   "execution_count": null,
   "metadata": {
    "collapsed": true
   },
   "outputs": [],
   "source": []
  }
 ],
 "metadata": {
  "kernelspec": {
   "display_name": "Python 3",
   "language": "python",
   "name": "python3"
  },
  "language_info": {
   "codemirror_mode": {
    "name": "ipython",
    "version": 3
   },
   "file_extension": ".py",
   "mimetype": "text/x-python",
   "name": "python",
   "nbconvert_exporter": "python",
   "pygments_lexer": "ipython3",
   "version": "3.6.3"
  }
 },
 "nbformat": 4,
 "nbformat_minor": 2
}
